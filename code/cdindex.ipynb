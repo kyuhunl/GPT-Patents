{
 "cells": [
  {
   "cell_type": "code",
   "execution_count": null,
   "metadata": {},
   "outputs": [],
   "source": [
    "import pandas as pd\n",
    "import os"
   ]
  },
  {
   "cell_type": "code",
   "execution_count": null,
   "metadata": {},
   "outputs": [],
   "source": [
    "#set directory\n",
    "os.chdir('/Users/kl/My Drive/Research/GPT Patents')"
   ]
  },
  {
   "cell_type": "code",
   "execution_count": null,
   "metadata": {},
   "outputs": [],
   "source": [
    "hof = pd.read_csv('National Inventors Hall of Fame/hof.csv')"
   ]
  },
  {
   "cell_type": "code",
   "execution_count": null,
   "metadata": {},
   "outputs": [],
   "source": [
    "eval(hof['patent'].loc[0])"
   ]
  },
  {
   "cell_type": "code",
   "execution_count": null,
   "metadata": {},
   "outputs": [],
   "source": [
    "#open xlsx file\n",
    "kelly_patents = pd.read_excel('Kelly et al. (2021)/Kelly et al. (2021) Important Patents.xlsx')"
   ]
  },
  {
   "cell_type": "code",
   "execution_count": null,
   "metadata": {},
   "outputs": [],
   "source": [
    "kelly_patents['kellyetal'] = 1\n",
    "kelly_patents['halloffame'] = 0\n",
    "kelly_patents['Patent'] = kelly_patents['Patent'].astype(str)"
   ]
  },
  {
   "cell_type": "code",
   "execution_count": null,
   "metadata": {},
   "outputs": [],
   "source": [
    "for i in range(len(hof)):\n",
    "    if hof['patent'].loc[i] == 'missing':\n",
    "        continue\n",
    "    patlist = eval(hof['patent'].loc[i])\n",
    "    for patent in patlist:\n",
    "        patnum = patent.replace(',','')\n",
    "        if patnum in kelly_patents['Patent'].tolist():\n",
    "            kelly_patents.loc[kelly_patents['Patent'] == patnum, 'halloffame'] = 1\n",
    "        else:\n",
    "            kelly_patents = pd.concat([kelly_patents, pd.DataFrame({'Patent': [patnum], 'Year': [None], 'Inventor': [hof['name'].loc[i]],'Invention': [hof['invention'].loc[i]],'kellyetal': [0], 'halloffame': [1]})], axis=0)\n",
    "        \n"
   ]
  },
  {
   "cell_type": "code",
   "execution_count": null,
   "metadata": {},
   "outputs": [],
   "source": [
    "kelly_patents.reset_index(drop=True, inplace=True)"
   ]
  },
  {
   "cell_type": "code",
   "execution_count": null,
   "metadata": {},
   "outputs": [],
   "source": [
    "kelly_patents"
   ]
  },
  {
   "cell_type": "code",
   "execution_count": null,
   "metadata": {},
   "outputs": [],
   "source": [
    "kelly_patents[kelly_patents['halloffame']*kelly_patents['kellyetal'] == 1]"
   ]
  },
  {
   "cell_type": "code",
   "execution_count": null,
   "metadata": {},
   "outputs": [],
   "source": [
    "kelly_patents.to_csv('significant_patents.csv', index=False)"
   ]
  },
  {
   "cell_type": "code",
   "execution_count": null,
   "metadata": {},
   "outputs": [],
   "source": [
    "kelly_patents['Patent'][0]"
   ]
  },
  {
   "cell_type": "code",
   "execution_count": null,
   "metadata": {},
   "outputs": [],
   "source": [
    "pd.read_csv('/Users/kl/Downloads/g_us_patent_citation.tsv', delimiter='\\t', nrows=10)['citation_patent_id']"
   ]
  },
  {
   "cell_type": "code",
   "execution_count": null,
   "metadata": {},
   "outputs": [],
   "source": [
    "read = pd.read_csv('/Users/kl/Downloads/g_us_patent_citation.tsv', delimiter='\\t', usecols=['patent_id','citation_patent_id'], chunksize=1000000)\n",
    "patlist = list(kelly_patents['Patent'].unique())\n",
    "\n",
    "bwd = pd.concat(chunk[chunk['patent_id'].astype(str).isin(patlist)] for chunk in read)\n",
    "fwd = pd.concat(chunk[chunk['citation_patent_id'].astype(str).isin(patlist)] for chunk in read)\n"
   ]
  },
  {
   "cell_type": "code",
   "execution_count": null,
   "metadata": {},
   "outputs": [],
   "source": [
    "bwd = pd.DataFrame()\n",
    "fwd = pd.DataFrame()\n",
    "read = pd.read_csv('/Users/kl/Downloads/g_us_patent_citation.tsv', delimiter='\\t', usecols=['patent_id','citation_patent_id'], chunksize=1000000)\n",
    "for chunk in read:\n",
    "    chunk['citation_patent_id'] = chunk['citation_patent_id'].astype(str)\n",
    "    chunk['patent_id'] = chunk['patent_id'].astype(str)\n",
    "    bwd = pd.concat([bwd, chunk[chunk['patent_id'].isin(patlist)]])\n",
    "    fwd = pd.concat([fwd, chunk[chunk['citation_patent_id'].isin(patlist)]])"
   ]
  },
  {
   "cell_type": "code",
   "execution_count": null,
   "metadata": {},
   "outputs": [],
   "source": [
    "fwd['citation_patent_id'].nunique()"
   ]
  },
  {
   "cell_type": "code",
   "execution_count": null,
   "metadata": {},
   "outputs": [],
   "source": [
    "bwd['patent_id'].nunique()"
   ]
  },
  {
   "cell_type": "code",
   "execution_count": null,
   "metadata": {},
   "outputs": [],
   "source": [
    "fwd_sub = fwd[fwd['citation_patent_id'].isin(bwd['patent_id'])]"
   ]
  },
  {
   "cell_type": "code",
   "execution_count": null,
   "metadata": {},
   "outputs": [],
   "source": [
    "fwd_sub['patent_id'].nunique()"
   ]
  },
  {
   "cell_type": "code",
   "execution_count": null,
   "metadata": {},
   "outputs": [],
   "source": [
    "fwd_sub['patent_id'].iloc[0]"
   ]
  },
  {
   "cell_type": "code",
   "execution_count": null,
   "metadata": {},
   "outputs": [],
   "source": [
    "bwd_of_fwd = pd.DataFrame()\n",
    "read = pd.read_csv('/Users/kl/Downloads/g_us_patent_citation.tsv', delimiter='\\t', usecols=['patent_id','citation_patent_id'], chunksize=1000000)\n",
    "for chunk in read:\n",
    "    chunk['citation_patent_id'] = chunk['citation_patent_id'].astype(str)\n",
    "    chunk['patent_id'] = chunk['patent_id'].astype(str)\n",
    "    bwd_of_fwd = pd.concat([bwd_of_fwd, chunk[chunk['patent_id'].isin(fwd_sub['patent_id'])]])"
   ]
  },
  {
   "cell_type": "code",
   "execution_count": null,
   "metadata": {},
   "outputs": [],
   "source": [
    "bwd_of_fwd.patent_id.nunique()"
   ]
  },
  {
   "cell_type": "code",
   "execution_count": null,
   "metadata": {},
   "outputs": [],
   "source": [
    "fwd_sub['fwd_cit_bwd'] = 0\n",
    "for i in range(len(fwd_sub)):\n",
    "    if i==0 or fwd_sub['citation_patent_id'].iloc[i] != fwd_sub['citation_patent_id'].iloc[i-1]:\n",
    "        focal = fwd_sub['citation_patent_id'].iloc[i]\n",
    "        bwd_list = bwd[bwd['patent_id'] == focal]['citation_patent_id'].tolist()\n",
    "    citing = fwd_sub['patent_id'].iloc[i]\n",
    "    fwd_bwd_list = bwd_of_fwd[bwd_of_fwd['patent_id'] == citing]['citation_patent_id'].tolist()\n",
    "    if len(set(bwd_list).intersection(fwd_bwd_list)) > 0:\n",
    "        fwd_sub['fwd_cit_bwd'].iloc[i] = 1\n",
    "    if i % 1000 == 0:\n",
    "        print(i)\n"
   ]
  },
  {
   "cell_type": "code",
   "execution_count": null,
   "metadata": {},
   "outputs": [],
   "source": [
    "fwd_sub.to_csv('fwd_sub.csv', index=False)\n",
    "fwd.to_csv('fwd.csv', index=False)\n",
    "bwd.to_csv('bwd.csv', index=False)\n",
    "bwd_of_fwd.to_csv('bwd_of_fwd.csv', index=False)"
   ]
  },
  {
   "cell_type": "code",
   "execution_count": null,
   "metadata": {},
   "outputs": [],
   "source": [
    "fwd_sub.iat[0,'citation_patent_id']"
   ]
  },
  {
   "cell_type": "code",
   "execution_count": null,
   "metadata": {},
   "outputs": [],
   "source": [
    "from openai import OpenAI"
   ]
  },
  {
   "cell_type": "code",
   "execution_count": null,
   "metadata": {},
   "outputs": [],
   "source": []
  },
  {
   "cell_type": "code",
   "execution_count": null,
   "metadata": {},
   "outputs": [],
   "source": [
    "import pandas as pd"
   ]
  },
  {
   "cell_type": "code",
   "execution_count": null,
   "metadata": {},
   "outputs": [],
   "source": [
    "patents = pd.read_csv('/Users/kl/Downloads/g_patent.tsv', delimiter='\\t')"
   ]
  },
  {
   "cell_type": "code",
   "execution_count": null,
   "metadata": {},
   "outputs": [],
   "source": [
    "patents"
   ]
  },
  {
   "cell_type": "code",
   "execution_count": null,
   "metadata": {},
   "outputs": [],
   "source": [
    "patents['patent_type'].unique()"
   ]
  },
  {
   "cell_type": "code",
   "execution_count": null,
   "metadata": {},
   "outputs": [],
   "source": [
    "patents[(patents['patent_type'] == 'design') & (patents['patent_id'].str[:1]=='D')]"
   ]
  },
  {
   "cell_type": "code",
   "execution_count": null,
   "metadata": {},
   "outputs": [],
   "source": []
  }
 ],
 "metadata": {
  "kernelspec": {
   "display_name": "Python 3",
   "language": "python",
   "name": "python3"
  },
  "language_info": {
   "codemirror_mode": {
    "name": "ipython",
    "version": 3
   },
   "file_extension": ".py",
   "mimetype": "text/x-python",
   "name": "python",
   "nbconvert_exporter": "python",
   "pygments_lexer": "ipython3",
   "version": "3.12.1"
  }
 },
 "nbformat": 4,
 "nbformat_minor": 2
}
