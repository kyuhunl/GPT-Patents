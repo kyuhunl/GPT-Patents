{
 "cells": [
  {
   "cell_type": "code",
   "execution_count": null,
   "metadata": {},
   "outputs": [],
   "source": [
    "# packages\n",
    "import zipfile as zip\n",
    "import csv\n",
    "import pandas as pd\n",
    "import datetime\n",
    "import matplotlib.pyplot as plt\n",
    "import numpy as np"
   ]
  },
  {
   "cell_type": "code",
   "execution_count": null,
   "metadata": {},
   "outputs": [],
   "source": [
    "patent_measures = pd.read_csv('patent_measures_0717.csv', index_col=0)\n",
    "assignee_identifiers = pd.read_csv('assignee_identifiers_0717.csv', index_col=0)\n",
    "date_permno_gvkey = pd.read_csv('date_permno_gvkey.csv', index_col=0)"
   ]
  },
  {
   "cell_type": "code",
   "execution_count": null,
   "metadata": {},
   "outputs": [],
   "source": [
    "patent_measures_generality = patent_measures[patent_measures['generality_10yr'].notna()]"
   ]
  },
  {
   "cell_type": "code",
   "execution_count": null,
   "metadata": {},
   "outputs": [],
   "source": [
    "# create new column 'has_permno' for patent_measures_generality: 1 if 'permno' or 'permno_adj' is not NaN, 0 otherwise.\n",
    "patent_measures_generality['has_permno'] = np.where(patent_measures_generality['permno'].notna() | patent_measures_generality['permno_adj'].notna(), 1, 0)"
   ]
  },
  {
   "cell_type": "code",
   "execution_count": null,
   "metadata": {},
   "outputs": [],
   "source": [
    "# create new column 'generality_tercile' for patent_measures_generality: 1 if 'generality_10yr' is in the 1st tercile, 2 if in the 2nd tercile, 3 if in the 3rd tercile among patents with the same filing_year\n",
    "patent_measures_generality['generality_tercile'] = patent_measures_generality.groupby('filing_year')['generality_10yr'].transform(lambda x: pd.qcut(x, 3, labels=[1, 2, 3]))"
   ]
  },
  {
   "cell_type": "code",
   "execution_count": null,
   "metadata": {},
   "outputs": [],
   "source": []
  },
  {
   "cell_type": "code",
   "execution_count": null,
   "metadata": {},
   "outputs": [],
   "source": []
  }
 ],
 "metadata": {
  "language_info": {
   "name": "python"
  }
 },
 "nbformat": 4,
 "nbformat_minor": 2
}
