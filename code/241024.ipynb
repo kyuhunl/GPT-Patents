{
 "cells": [
  {
   "cell_type": "code",
   "execution_count": 1,
   "metadata": {},
   "outputs": [
    {
     "name": "stdout",
     "output_type": "stream",
     "text": [
      "Intel MKL WARNING: Support of Intel(R) Streaming SIMD Extensions 4.2 (Intel(R) SSE4.2) enabled only processors has been deprecated. Intel oneAPI Math Kernel Library 2025.0 will require Intel(R) Advanced Vector Extensions (Intel(R) AVX) instructions.\n",
      "Intel MKL WARNING: Support of Intel(R) Streaming SIMD Extensions 4.2 (Intel(R) SSE4.2) enabled only processors has been deprecated. Intel oneAPI Math Kernel Library 2025.0 will require Intel(R) Advanced Vector Extensions (Intel(R) AVX) instructions.\n"
     ]
    }
   ],
   "source": [
    "import zipfile\n",
    "import os\n",
    "import pandas as pd\n",
    "import lxml"
   ]
  },
  {
   "cell_type": "code",
   "execution_count": 3,
   "metadata": {},
   "outputs": [],
   "source": [
    "# open g_cpc_title.tsv.zip to a dataframe without extracting    \n",
    "with zipfile.ZipFile('g_cpc_title.tsv.zip', 'r') as zip_ref:\n",
    "    cpc_title = pd.read_csv(zip_ref.open('g_cpc_title.tsv'), sep='\\t')\n",
    "\n"
   ]
  },
  {
   "cell_type": "code",
   "execution_count": 4,
   "metadata": {},
   "outputs": [],
   "source": [
    "# open g_cpc_current.tsv.zip to a dataframe without extracting\n",
    "with zipfile.ZipFile('g_cpc_current.tsv.zip', 'r') as zip_ref:\n",
    "    cpc_current = pd.read_csv(zip_ref.open('g_cpc_current.tsv'), sep='\\t')"
   ]
  },
  {
   "cell_type": "code",
   "execution_count": 25,
   "metadata": {},
   "outputs": [
    {
     "data": {
      "text/html": [
       "<div>\n",
       "<style scoped>\n",
       "    .dataframe tbody tr th:only-of-type {\n",
       "        vertical-align: middle;\n",
       "    }\n",
       "\n",
       "    .dataframe tbody tr th {\n",
       "        vertical-align: top;\n",
       "    }\n",
       "\n",
       "    .dataframe thead th {\n",
       "        text-align: right;\n",
       "    }\n",
       "</style>\n",
       "<table border=\"1\" class=\"dataframe\">\n",
       "  <thead>\n",
       "    <tr style=\"text-align: right;\">\n",
       "      <th></th>\n",
       "      <th>patent_id</th>\n",
       "      <th>cpc_sequence</th>\n",
       "      <th>cpc_section</th>\n",
       "      <th>cpc_class</th>\n",
       "      <th>cpc_subclass</th>\n",
       "      <th>cpc_group</th>\n",
       "      <th>cpc_type</th>\n",
       "    </tr>\n",
       "  </thead>\n",
       "  <tbody>\n",
       "    <tr>\n",
       "      <th>0</th>\n",
       "      <td>3950000</td>\n",
       "      <td>0</td>\n",
       "      <td>A</td>\n",
       "      <td>A63</td>\n",
       "      <td>A63C</td>\n",
       "      <td>A63C9/001</td>\n",
       "      <td>inventional</td>\n",
       "    </tr>\n",
       "    <tr>\n",
       "      <th>1</th>\n",
       "      <td>3950000</td>\n",
       "      <td>1</td>\n",
       "      <td>A</td>\n",
       "      <td>A63</td>\n",
       "      <td>A63C</td>\n",
       "      <td>A63C9/00</td>\n",
       "      <td>inventional</td>\n",
       "    </tr>\n",
       "    <tr>\n",
       "      <th>2</th>\n",
       "      <td>3950000</td>\n",
       "      <td>2</td>\n",
       "      <td>A</td>\n",
       "      <td>A63</td>\n",
       "      <td>A63C</td>\n",
       "      <td>A63C9/002</td>\n",
       "      <td>inventional</td>\n",
       "    </tr>\n",
       "    <tr>\n",
       "      <th>3</th>\n",
       "      <td>3950000</td>\n",
       "      <td>3</td>\n",
       "      <td>A</td>\n",
       "      <td>A63</td>\n",
       "      <td>A63C</td>\n",
       "      <td>A63C9/081</td>\n",
       "      <td>inventional</td>\n",
       "    </tr>\n",
       "    <tr>\n",
       "      <th>4</th>\n",
       "      <td>3950001</td>\n",
       "      <td>0</td>\n",
       "      <td>A</td>\n",
       "      <td>A63</td>\n",
       "      <td>A63C</td>\n",
       "      <td>A63C9/086</td>\n",
       "      <td>inventional</td>\n",
       "    </tr>\n",
       "    <tr>\n",
       "      <th>...</th>\n",
       "      <td>...</td>\n",
       "      <td>...</td>\n",
       "      <td>...</td>\n",
       "      <td>...</td>\n",
       "      <td>...</td>\n",
       "      <td>...</td>\n",
       "      <td>...</td>\n",
       "    </tr>\n",
       "    <tr>\n",
       "      <th>54914745</th>\n",
       "      <td>12099999</td>\n",
       "      <td>0</td>\n",
       "      <td>G</td>\n",
       "      <td>G06</td>\n",
       "      <td>G06Q</td>\n",
       "      <td>G06Q20/389</td>\n",
       "      <td>inventional</td>\n",
       "    </tr>\n",
       "    <tr>\n",
       "      <th>54914746</th>\n",
       "      <td>12099999</td>\n",
       "      <td>1</td>\n",
       "      <td>G</td>\n",
       "      <td>G06</td>\n",
       "      <td>G06Q</td>\n",
       "      <td>G06Q20/027</td>\n",
       "      <td>inventional</td>\n",
       "    </tr>\n",
       "    <tr>\n",
       "      <th>54914747</th>\n",
       "      <td>12099999</td>\n",
       "      <td>2</td>\n",
       "      <td>G</td>\n",
       "      <td>G06</td>\n",
       "      <td>G06Q</td>\n",
       "      <td>G06Q20/3823</td>\n",
       "      <td>inventional</td>\n",
       "    </tr>\n",
       "    <tr>\n",
       "      <th>54914748</th>\n",
       "      <td>12099999</td>\n",
       "      <td>3</td>\n",
       "      <td>G</td>\n",
       "      <td>G06</td>\n",
       "      <td>G06Q</td>\n",
       "      <td>G06Q20/3827</td>\n",
       "      <td>inventional</td>\n",
       "    </tr>\n",
       "    <tr>\n",
       "      <th>54914749</th>\n",
       "      <td>12099999</td>\n",
       "      <td>4</td>\n",
       "      <td>G</td>\n",
       "      <td>G06</td>\n",
       "      <td>G06Q</td>\n",
       "      <td>G06Q2220/00</td>\n",
       "      <td>additional</td>\n",
       "    </tr>\n",
       "  </tbody>\n",
       "</table>\n",
       "<p>54914750 rows × 7 columns</p>\n",
       "</div>"
      ],
      "text/plain": [
       "          patent_id  cpc_sequence cpc_section cpc_class cpc_subclass  \\\n",
       "0           3950000             0           A       A63         A63C   \n",
       "1           3950000             1           A       A63         A63C   \n",
       "2           3950000             2           A       A63         A63C   \n",
       "3           3950000             3           A       A63         A63C   \n",
       "4           3950001             0           A       A63         A63C   \n",
       "...             ...           ...         ...       ...          ...   \n",
       "54914745   12099999             0           G       G06         G06Q   \n",
       "54914746   12099999             1           G       G06         G06Q   \n",
       "54914747   12099999             2           G       G06         G06Q   \n",
       "54914748   12099999             3           G       G06         G06Q   \n",
       "54914749   12099999             4           G       G06         G06Q   \n",
       "\n",
       "            cpc_group     cpc_type  \n",
       "0           A63C9/001  inventional  \n",
       "1            A63C9/00  inventional  \n",
       "2           A63C9/002  inventional  \n",
       "3           A63C9/081  inventional  \n",
       "4           A63C9/086  inventional  \n",
       "...               ...          ...  \n",
       "54914745   G06Q20/389  inventional  \n",
       "54914746   G06Q20/027  inventional  \n",
       "54914747  G06Q20/3823  inventional  \n",
       "54914748  G06Q20/3827  inventional  \n",
       "54914749  G06Q2220/00   additional  \n",
       "\n",
       "[54914750 rows x 7 columns]"
      ]
     },
     "execution_count": 25,
     "metadata": {},
     "output_type": "execute_result"
    }
   ],
   "source": [
    "cpc_current"
   ]
  },
  {
   "cell_type": "code",
   "execution_count": 5,
   "metadata": {},
   "outputs": [
    {
     "name": "stderr",
     "output_type": "stream",
     "text": [
      "/var/folders/82/mcr3vdtj7kg2_7lr7tq4vk6m0000gn/T/ipykernel_49744/626857228.py:3: DtypeWarning: Columns (0,5,6) have mixed types. Specify dtype option on import or set low_memory=False.\n",
      "  citations = pd.read_csv(zip_ref.open('g_us_patent_citation.tsv'), sep='\\t')\n"
     ]
    }
   ],
   "source": [
    "# open g_us_patent_citation.tsv.zip to a dataframe without extracting\n",
    "with zipfile.ZipFile('g_us_patent_citation.tsv.zip', 'r') as zip_ref:\n",
    "    citations = pd.read_csv(zip_ref.open('g_us_patent_citation.tsv'), sep='\\t')\n"
   ]
  },
  {
   "cell_type": "code",
   "execution_count": 6,
   "metadata": {},
   "outputs": [],
   "source": [
    "citations = citations[['patent_id','citation_patent_id','citation_date']]"
   ]
  },
  {
   "cell_type": "code",
   "execution_count": 33,
   "metadata": {},
   "outputs": [
    {
     "ename": "",
     "evalue": "",
     "output_type": "error",
     "traceback": [
      "\u001b[1;31mThe Kernel crashed while executing code in the current cell or a previous cell. \n",
      "\u001b[1;31mPlease review the code in the cell(s) to identify a possible cause of the failure. \n",
      "\u001b[1;31mClick <a href='https://aka.ms/vscodeJupyterKernelCrash'>here</a> for more info. \n",
      "\u001b[1;31mView Jupyter <a href='command:jupyter.viewOutput'>log</a> for further details."
     ]
    }
   ],
   "source": [
    "citations = citations.merge(cpc_current[['patent_id','cpc_group']], on='patent_id', how='left')"
   ]
  },
  {
   "cell_type": "code",
   "execution_count": 7,
   "metadata": {},
   "outputs": [],
   "source": [
    "cpc_subclass = cpc_current[['patent_id','cpc_subclass']].drop_duplicates()"
   ]
  },
  {
   "cell_type": "code",
   "execution_count": 8,
   "metadata": {},
   "outputs": [
    {
     "data": {
      "text/html": [
       "<div>\n",
       "<style scoped>\n",
       "    .dataframe tbody tr th:only-of-type {\n",
       "        vertical-align: middle;\n",
       "    }\n",
       "\n",
       "    .dataframe tbody tr th {\n",
       "        vertical-align: top;\n",
       "    }\n",
       "\n",
       "    .dataframe thead th {\n",
       "        text-align: right;\n",
       "    }\n",
       "</style>\n",
       "<table border=\"1\" class=\"dataframe\">\n",
       "  <thead>\n",
       "    <tr style=\"text-align: right;\">\n",
       "      <th></th>\n",
       "      <th>patent_id</th>\n",
       "      <th>cpc_subclass</th>\n",
       "    </tr>\n",
       "  </thead>\n",
       "  <tbody>\n",
       "    <tr>\n",
       "      <th>0</th>\n",
       "      <td>3950000</td>\n",
       "      <td>A63C</td>\n",
       "    </tr>\n",
       "    <tr>\n",
       "      <th>4</th>\n",
       "      <td>3950001</td>\n",
       "      <td>A63C</td>\n",
       "    </tr>\n",
       "    <tr>\n",
       "      <th>7</th>\n",
       "      <td>3950002</td>\n",
       "      <td>A63C</td>\n",
       "    </tr>\n",
       "    <tr>\n",
       "      <th>11</th>\n",
       "      <td>3950003</td>\n",
       "      <td>A63C</td>\n",
       "    </tr>\n",
       "    <tr>\n",
       "      <th>15</th>\n",
       "      <td>3950004</td>\n",
       "      <td>B62B</td>\n",
       "    </tr>\n",
       "    <tr>\n",
       "      <th>...</th>\n",
       "      <td>...</td>\n",
       "      <td>...</td>\n",
       "    </tr>\n",
       "    <tr>\n",
       "      <th>54914729</th>\n",
       "      <td>12099996</td>\n",
       "      <td>H04L</td>\n",
       "    </tr>\n",
       "    <tr>\n",
       "      <th>54914739</th>\n",
       "      <td>12099997</td>\n",
       "      <td>G06Q</td>\n",
       "    </tr>\n",
       "    <tr>\n",
       "      <th>54914742</th>\n",
       "      <td>12099997</td>\n",
       "      <td>H04L</td>\n",
       "    </tr>\n",
       "    <tr>\n",
       "      <th>54914743</th>\n",
       "      <td>12099998</td>\n",
       "      <td>G06Q</td>\n",
       "    </tr>\n",
       "    <tr>\n",
       "      <th>54914745</th>\n",
       "      <td>12099999</td>\n",
       "      <td>G06Q</td>\n",
       "    </tr>\n",
       "  </tbody>\n",
       "</table>\n",
       "<p>16778775 rows × 2 columns</p>\n",
       "</div>"
      ],
      "text/plain": [
       "          patent_id cpc_subclass\n",
       "0           3950000         A63C\n",
       "4           3950001         A63C\n",
       "7           3950002         A63C\n",
       "11          3950003         A63C\n",
       "15          3950004         B62B\n",
       "...             ...          ...\n",
       "54914729   12099996         H04L\n",
       "54914739   12099997         G06Q\n",
       "54914742   12099997         H04L\n",
       "54914743   12099998         G06Q\n",
       "54914745   12099999         G06Q\n",
       "\n",
       "[16778775 rows x 2 columns]"
      ]
     },
     "execution_count": 8,
     "metadata": {},
     "output_type": "execute_result"
    }
   ],
   "source": [
    "cpc_subclass"
   ]
  },
  {
   "cell_type": "code",
   "execution_count": 9,
   "metadata": {},
   "outputs": [],
   "source": [
    "citations = citations.merge(cpc_subclass, on='patent_id', how='left')"
   ]
  },
  {
   "cell_type": "code",
   "execution_count": 15,
   "metadata": {},
   "outputs": [],
   "source": [
    "citations = citations.dropna(subset=['cpc_subclass'])"
   ]
  },
  {
   "cell_type": "code",
   "execution_count": 17,
   "metadata": {},
   "outputs": [],
   "source": [
    "citations = citations.rename(columns={'cpc_subclass':'citing_subclass'})"
   ]
  },
  {
   "cell_type": "code",
   "execution_count": 19,
   "metadata": {},
   "outputs": [],
   "source": [
    "citations.to_csv('citations_partmerged.csv')"
   ]
  },
  {
   "cell_type": "code",
   "execution_count": 27,
   "metadata": {},
   "outputs": [],
   "source": [
    "cpc_subclass['patent_id'] = cpc_subclass['patent_id'].astype(str)"
   ]
  },
  {
   "cell_type": "code",
   "execution_count": 28,
   "metadata": {},
   "outputs": [
    {
     "ename": "",
     "evalue": "",
     "output_type": "error",
     "traceback": [
      "\u001b[1;31mThe Kernel crashed while executing code in the current cell or a previous cell. \n",
      "\u001b[1;31mPlease review the code in the cell(s) to identify a possible cause of the failure. \n",
      "\u001b[1;31mClick <a href='https://aka.ms/vscodeJupyterKernelCrash'>here</a> for more info. \n",
      "\u001b[1;31mView Jupyter <a href='command:jupyter.viewOutput'>log</a> for further details."
     ]
    }
   ],
   "source": [
    "citations = citations.merge(cpc_subclass, left_on='citation_patent_id', right_on='patent_id', how='inner')"
   ]
  },
  {
   "cell_type": "code",
   "execution_count": 23,
   "metadata": {},
   "outputs": [
    {
     "data": {
      "text/plain": [
       "dtype('O')"
      ]
     },
     "execution_count": 23,
     "metadata": {},
     "output_type": "execute_result"
    }
   ],
   "source": [
    "citations['citation_patent_id'].dtype"
   ]
  },
  {
   "cell_type": "code",
   "execution_count": 24,
   "metadata": {},
   "outputs": [
    {
     "data": {
      "text/plain": [
       "dtype('O')"
      ]
     },
     "execution_count": 24,
     "metadata": {},
     "output_type": "execute_result"
    }
   ],
   "source": [
    "citations['patent_id'].dtype"
   ]
  },
  {
   "cell_type": "code",
   "execution_count": 26,
   "metadata": {},
   "outputs": [
    {
     "data": {
      "text/plain": [
       "'5093563'"
      ]
     },
     "execution_count": 26,
     "metadata": {},
     "output_type": "execute_result"
    }
   ],
   "source": [
    "citations['citation_patent_id'].iloc[0]"
   ]
  },
  {
   "cell_type": "code",
   "execution_count": null,
   "metadata": {},
   "outputs": [],
   "source": []
  }
 ],
 "metadata": {
  "kernelspec": {
   "display_name": "pyenv",
   "language": "python",
   "name": "python3"
  },
  "language_info": {
   "codemirror_mode": {
    "name": "ipython",
    "version": 3
   },
   "file_extension": ".py",
   "mimetype": "text/x-python",
   "name": "python",
   "nbconvert_exporter": "python",
   "pygments_lexer": "ipython3",
   "version": "3.9.18"
  }
 },
 "nbformat": 4,
 "nbformat_minor": 2
}
