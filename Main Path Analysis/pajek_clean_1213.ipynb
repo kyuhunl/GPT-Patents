{
 "cells": [
  {
   "cell_type": "code",
   "execution_count": null,
   "metadata": {},
   "outputs": [],
   "source": [
    "import pandas as pd\n",
    "import numpy as np"
   ]
  },
  {
   "cell_type": "code",
   "execution_count": null,
   "metadata": {},
   "outputs": [],
   "source": [
    "#load pcr_citations_between.tsv\n",
    "df = pd.read_csv('pcr_citations_between.tsv', sep='\\t')"
   ]
  },
  {
   "cell_type": "code",
   "execution_count": null,
   "metadata": {},
   "outputs": [],
   "source": [
    "df = df[['patent_id','citation_patent_id']]"
   ]
  },
  {
   "cell_type": "code",
   "execution_count": null,
   "metadata": {},
   "outputs": [],
   "source": [
    "df"
   ]
  },
  {
   "cell_type": "code",
   "execution_count": null,
   "metadata": {},
   "outputs": [],
   "source": [
    "# Convert to pajek format\n",
    "unique_patents = pd.unique(df[['patent_id', 'citation_patent_id']].values.ravel('K'))\n",
    "with open('pcr_citations_between.net', 'w') as f:\n",
    "    f.write('*Vertices ' + str(len(unique_patents)) + '\\n')\n",
    "    for i, patent in enumerate(unique_patents):\n",
    "        f.write(str(i+1) + ' \"' + str(patent) + '\"\\n')\n",
    "    f.write('*Arcs\\n')\n",
    "    for index, row in df.iterrows():\n",
    "        if row['citation_patent_id'] in unique_patents:\n",
    "            f.write(str(np.where(unique_patents == row['patent_id'])[0][0] + 1) + ' ' + str(np.where(unique_patents == row['citation_patent_id'])[0][0] + 1) + '\\n')"
   ]
  },
  {
   "cell_type": "code",
   "execution_count": null,
   "metadata": {},
   "outputs": [],
   "source": []
  }
 ],
 "metadata": {
  "kernelspec": {
   "display_name": "base",
   "language": "python",
   "name": "python3"
  },
  "language_info": {
   "codemirror_mode": {
    "name": "ipython",
    "version": 3
   },
   "file_extension": ".py",
   "mimetype": "text/x-python",
   "name": "python",
   "nbconvert_exporter": "python",
   "pygments_lexer": "ipython3",
   "version": "3.9.13"
  }
 },
 "nbformat": 4,
 "nbformat_minor": 2
}
