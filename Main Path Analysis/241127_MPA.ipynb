{
 "cells": [
  {
   "cell_type": "code",
   "execution_count": null,
   "id": "18b30b46-1af4-4080-ba5d-97e13cc2308e",
   "metadata": {},
   "outputs": [],
   "source": [
    "import pandas as pd\n",
    "import zipfile"
   ]
  },
  {
   "cell_type": "code",
   "execution_count": null,
   "id": "9956c50b-c35b-46e6-a4fc-6617473a7681",
   "metadata": {},
   "outputs": [],
   "source": [
    "# open the zip file\n",
    "with zipfile.ZipFile('g_cpc_current.tsv.zip', 'r') as zip_ref:\n",
    "    # extract the .tsv file as a pandas dataframe\n",
    "    with zip_ref.open('g_cpc_current.tsv') as file:\n",
    "        df = pd.read_csv(file, sep='\\t', header=0)"
   ]
  },
  {
   "cell_type": "code",
   "execution_count": null,
   "id": "e45764be-d8dd-467b-85d0-4068799d86b3",
   "metadata": {},
   "outputs": [],
   "source": [
    "pcr_patents = df[df['cpc_group']=='C12Q1/686']"
   ]
  },
  {
   "cell_type": "code",
   "execution_count": null,
   "id": "a8202fce-ef43-451a-bdd2-35571836732b",
   "metadata": {},
   "outputs": [],
   "source": [
    "pcr_patent_ids = pcr_patents['patent_id'].tolist()"
   ]
  },
  {
   "cell_type": "code",
   "execution_count": null,
   "id": "1fa14c9f-a2de-436c-8237-219fe96c0ffa",
   "metadata": {},
   "outputs": [],
   "source": [
    "# open the zip file\n",
    "with zipfile.ZipFile('g_us_patent_citation.tsv.zip', 'r') as zip_ref:\n",
    "    # extract the .tsv file as a pandas dataframe\n",
    "    with zip_ref.open('g_us_patent_citation.tsv') as file:\n",
    "        citations = pd.read_csv(file, sep='\\t', header=0)"
   ]
  },
  {
   "cell_type": "code",
   "execution_count": null,
   "id": "4449dc7d-5960-49a0-92d2-b69db457c365",
   "metadata": {},
   "outputs": [],
   "source": [
    "citations['patent_id'] = citations['patent_id'].astype(str)\n",
    "citations['citation_patent_id'] = citations['citation_patent_id'].astype(str)"
   ]
  },
  {
   "cell_type": "code",
   "execution_count": null,
   "id": "9e1377a1-3c1d-4cd6-b88e-9a648330028f",
   "metadata": {},
   "outputs": [],
   "source": [
    "# convert list to string list\n",
    "pcr_patent_ids = [str(x) for x in pcr_patent_ids]"
   ]
  },
  {
   "cell_type": "code",
   "execution_count": null,
   "id": "d48e1b1d-56ae-4075-9238-7a60409560a6",
   "metadata": {},
   "outputs": [],
   "source": [
    "pcr_citations = citations[(citations['patent_id'].isin(pcr_patent_ids)) | (citations['citation_patent_id'].isin(pcr_patent_ids))]  "
   ]
  },
  {
   "cell_type": "code",
   "execution_count": null,
   "id": "01dc2cd7-3061-4b62-a663-28b917a6ae3c",
   "metadata": {},
   "outputs": [],
   "source": [
    "pcr_citations.to_csv('pcr_citations.tsv', sep='\\t', index=False)"
   ]
  },
  {
   "cell_type": "code",
   "execution_count": null,
   "id": "bdaaa9c8-deb9-4137-a3dd-c1b8ca26a825",
   "metadata": {},
   "outputs": [],
   "source": [
    "pcr_citations_between = pcr_citations[pcr_citations['patent_id'].isin(pcr_patent_ids) & pcr_citations['citation_patent_id'].isin(pcr_patent_ids)]"
   ]
  },
  {
   "cell_type": "code",
   "execution_count": null,
   "id": "e8c3c2a3-f734-4295-95c5-1341720932c4",
   "metadata": {},
   "outputs": [],
   "source": [
    "pcr_citations_between"
   ]
  },
  {
   "cell_type": "code",
   "execution_count": null,
   "id": "fd56552d-3e35-4652-9173-ab6ba0a8c809",
   "metadata": {},
   "outputs": [],
   "source": [
    "pcr_patents.to_csv('pcr_patents.tsv', sep='\\t', index=False)\n",
    "pcr_citations_between.to_csv('pcr_citations_between.tsv', sep='\\t', index=False)"
   ]
  },
  {
   "cell_type": "code",
   "execution_count": null,
   "id": "f83c6f2a-16d0-4613-8f28-a7d507825a45",
   "metadata": {},
   "outputs": [],
   "source": [
    "import networkx as nx"
   ]
  },
  {
   "cell_type": "code",
   "execution_count": null,
   "id": "ce99206a-406d-48d0-aaff-037c414e6be9",
   "metadata": {
    "scrolled": true
   },
   "outputs": [],
   "source": [
    "pcr_patent_ids"
   ]
  },
  {
   "cell_type": "code",
   "execution_count": null,
   "id": "78a06dc2-94e0-4948-82cd-d394c6c81852",
   "metadata": {},
   "outputs": [],
   "source": [
    "G = nx.from_pandas_edgelist(pcr_citations_between, 'patent_id', 'citation_patent_id', create_using=nx.DiGraph)"
   ]
  },
  {
   "cell_type": "code",
   "execution_count": null,
   "id": "bcd593d4-e5bd-41f4-ad90-aab5a417a202",
   "metadata": {},
   "outputs": [],
   "source": [
    "# main path analysis\n",
    "source_nodes = [n for n in G.nodes() if G.in_degree(n) == 0]\n",
    "sink_nodes = [n for n in G.nodes() if G.out_degree(n) == 0]"
   ]
  },
  {
   "cell_type": "code",
   "execution_count": null,
   "id": "ef63f754-0a34-400b-972a-858d47c87e4a",
   "metadata": {},
   "outputs": [],
   "source": [
    "weights = {}\n",
    "for source in source_nodes:\n",
    "    for sink in sink_nodes:\n",
    "        try:\n",
    "            # Find all paths between source and sink\n",
    "            paths = list(nx.all_simple_paths(G, source, sink))\n",
    "            \n",
    "            # Update weights for each edge in each path\n",
    "            for path in paths:\n",
    "                for i in range(len(path)-1):\n",
    "                    edge = (path[i], path[i+1])\n",
    "                    weights[edge] = weights.get(edge, 0) + 1\n",
    "        except nx.NetworkXNoPath:\n",
    "            continue"
   ]
  },
  {
   "cell_type": "code",
   "execution_count": null,
   "id": "d1e9aa9a-efb6-4cb8-b69c-6ac3f68ffc2c",
   "metadata": {},
   "outputs": [],
   "source": [
    "import pickle\n",
    "\n",
    "def save_weights(weights, filename):\n",
    "    with open(filename + '.pkl', 'wb') as f:\n",
    "        pickle.dump(weights, f)\n",
    "\n",
    "def load_weights(filename):\n",
    "    with open(filename + '.pkl', 'rb') as f:\n",
    "        return pickle.load(f)\n",
    "\n",
    "# Example usage:\n",
    "# save_weights(weights, 'network_weights')\n",
    "# weights = load_weights('network_weights')\n"
   ]
  },
  {
   "cell_type": "code",
   "execution_count": null,
   "id": "4450c2fa-ed7e-41c5-ac7e-f35af264faf7",
   "metadata": {},
   "outputs": [],
   "source": [
    "weights = load_weights('network_weights')"
   ]
  },
  {
   "cell_type": "code",
   "execution_count": null,
   "id": "d3299884-de96-4c62-9043-065cd802992b",
   "metadata": {
    "scrolled": true
   },
   "outputs": [],
   "source": [
    "weights"
   ]
  },
  {
   "cell_type": "code",
   "execution_count": null,
   "id": "dcd73c93-c096-445e-9409-01ae45d9e049",
   "metadata": {},
   "outputs": [],
   "source": [
    "pcr_citations = pd.read_csv('pcr_citations.tsv', sep='\\t')"
   ]
  },
  {
   "cell_type": "code",
   "execution_count": null,
   "id": "57739f81-267f-4522-9de6-e7f88968dd7a",
   "metadata": {},
   "outputs": [],
   "source": [
    "pcr_citations"
   ]
  },
  {
   "cell_type": "code",
   "execution_count": null,
   "id": "f9fc9b37-395d-454d-970d-a5b5f582ae4f",
   "metadata": {},
   "outputs": [],
   "source": [
    "pcr_patents"
   ]
  },
  {
   "cell_type": "code",
   "execution_count": null,
   "id": "23ea35a1-8f85-471d-8ce1-2c13136ebc29",
   "metadata": {
    "scrolled": true
   },
   "outputs": [],
   "source": [
    "pcr_patent_ids"
   ]
  },
  {
   "cell_type": "code",
   "execution_count": null,
   "id": "03c5bdb1-659c-43bd-9e3c-fae5887b2821",
   "metadata": {},
   "outputs": [],
   "source": [
    "patent_measures = pd.read_csv('patent_measure_combined.csv', index_col=0)"
   ]
  },
  {
   "cell_type": "code",
   "execution_count": null,
   "id": "95b56598-480b-43cb-8be4-79e59c0f10f4",
   "metadata": {},
   "outputs": [],
   "source": [
    "pcr_patents = patent_measures[patent_measures['patent_id'].isin(pcr_patent_ids)]"
   ]
  },
  {
   "cell_type": "code",
   "execution_count": null,
   "id": "9a33cd63-e289-4652-8d31-8792f9dfa2a2",
   "metadata": {},
   "outputs": [],
   "source": [
    "patents = pd.read_csv('g_patent.tsv', sep='\\t')"
   ]
  },
  {
   "cell_type": "code",
   "execution_count": null,
   "id": "85fdf5a3-62f6-4574-bdc7-24f500c5dbda",
   "metadata": {},
   "outputs": [],
   "source": [
    "pcr_patents_full = patents[patents['patent_id'].isin(pcr_patent_ids)]"
   ]
  },
  {
   "cell_type": "code",
   "execution_count": null,
   "id": "170ebc98-abb8-454e-b6ea-c6dde081dabe",
   "metadata": {},
   "outputs": [],
   "source": [
    "pcr_patents_full.patent_date.max()"
   ]
  },
  {
   "cell_type": "code",
   "execution_count": null,
   "id": "7d7cfb14-53e3-466b-b5c3-9c58ab32ad44",
   "metadata": {},
   "outputs": [],
   "source": [
    "pcr_patents.patent_date.max()"
   ]
  },
  {
   "cell_type": "code",
   "execution_count": null,
   "id": "36295d17-6889-42c3-9828-3727f7cb50f4",
   "metadata": {},
   "outputs": [],
   "source": [
    "pcr_patents.columns"
   ]
  },
  {
   "cell_type": "code",
   "execution_count": null,
   "id": "26adae8c-f9cb-4d75-8a5b-f137a9c832a0",
   "metadata": {},
   "outputs": [],
   "source": [
    "pcr_patents[['grant_year','fcitALL']].corr()"
   ]
  },
  {
   "cell_type": "code",
   "execution_count": null,
   "id": "399e7bbc-810f-4735-8226-3882c75fb185",
   "metadata": {
    "scrolled": true
   },
   "outputs": [],
   "source": [
    "weights"
   ]
  },
  {
   "cell_type": "code",
   "execution_count": null,
   "id": "25cf83b5-15a5-4bab-9d00-05584944079d",
   "metadata": {
    "scrolled": true
   },
   "outputs": [],
   "source": [
    "weights = load_weights('network_weights')\n",
    "\n",
    "max_weight = max(weights.values())\n",
    "weights = {k: v/max_weight for k, v in weights.items()}\n",
    "\n",
    "# Find main path\n",
    "main_path_edges = set()\n",
    "\n",
    "# Transform weights for shortest path calculation\n",
    "# (higher traversal weight = shorter path)\n",
    "transformed_weights = {edge: 1 - weight \n",
    "                     for edge, weight in weights.items()}\n",
    "\n",
    "# Find paths between all sources and sinks\n",
    "for source in source_nodes:\n",
    "    print(source)\n",
    "    for sink in sink_nodes:\n",
    "        try:\n",
    "            path = nx.shortest_path(G, source, sink, \n",
    "                                  weight=lambda u, v, d: transformed_weights[(u, v)])\n",
    "            \n",
    "            # Add edges from path to main path\n",
    "            for i in range(len(path)-1):\n",
    "                main_path_edges.add((path[i], path[i+1]))\n",
    "        except nx.NetworkXNoPath:\n",
    "            continue\n",
    "\n",
    "# Calculate path significance\n",
    "if main_path_edges:\n",
    "    path_significance = sum(weights[edge] for edge in main_path_edges) / len(main_path_edges)\n",
    "else:\n",
    "    path_significance = 0\n",
    "\n",
    "with open('main_path_edges.pkl', 'wb') as f:\n",
    "    pickle.dump(main_path_edges, f)\n",
    "\n",
    "with open('weights_transformed.pkl','wb') as f:\n",
    "    pickle.dump(weights, f)\n",
    "\n",
    "with open('path_significance.pkl','wb') as f:\n",
    "    pickle.dump(path_significance, f)\n"
   ]
  },
  {
   "cell_type": "code",
   "execution_count": null,
   "id": "84c08754-13e0-4afc-800a-689d8e7d0130",
   "metadata": {},
   "outputs": [],
   "source": [
    "main_path_patents = []\n",
    "for edge in main_path_edges:\n",
    "    main_path_patents.append(edge[0])\n",
    "    main_path_patents.append(edge[1])\n",
    "main_path_patents = list(set(main_path_patents))\n",
    "print(len(main_path_patents))"
   ]
  },
  {
   "cell_type": "code",
   "execution_count": null,
   "id": "885f1bab-5910-45d8-a887-205ea26cde4d",
   "metadata": {
    "scrolled": true
   },
   "outputs": [],
   "source": [
    "weights = load_weights('network_weights')\n",
    "\n",
    "max_weight = max(weights.values())\n",
    "weights = {k: v/max_weight for k, v in weights.items()}\n",
    "\n",
    "# Find main path\n",
    "main_path_edges = set()\n",
    "\n",
    "# Transform weights for shortest path calculation\n",
    "# (higher traversal weight = shorter path)\n",
    "transformed_weights = {edge: - weight \n",
    "                     for edge, weight in weights.items()}\n",
    "\n",
    "# Find paths between all sources and sinks\n",
    "shortest_path_length = 10\n",
    "for source in source_nodes:\n",
    "    for sink in sink_nodes:\n",
    "        try:\n",
    "            path = nx.shortest_path(G, source, sink, weight=lambda u, v, d: transformed_weights[(u, v)])\n",
    "            path_length = nx.shortest_path_length(G, source, sink, weight=lambda u, v, d: transformed_weights[(u, v)])\n",
    "            if path_length < shortest_path_length:\n",
    "                shortest_path = path\n",
    "        except nx.NetworkXNoPath:\n",
    "            continue"
   ]
  },
  {
   "cell_type": "code",
   "execution_count": null,
   "id": "bfd85168-b602-4a06-bc15-59d10ed9d083",
   "metadata": {},
   "outputs": [],
   "source": [
    "with open('main_path.pkl','wb') as f:\n",
    "    pickle.dump(shortest_path, f)"
   ]
  },
  {
   "cell_type": "code",
   "execution_count": null,
   "id": "1d05d78f-da47-446b-8d17-5647a7f2dba5",
   "metadata": {},
   "outputs": [],
   "source": [
    "shortest_path"
   ]
  }
 ],
 "metadata": {
  "kernelspec": {
   "display_name": "large",
   "language": "python",
   "name": "env1"
  },
  "language_info": {
   "codemirror_mode": {
    "name": "ipython",
    "version": 3
   },
   "file_extension": ".py",
   "mimetype": "text/x-python",
   "name": "python",
   "nbconvert_exporter": "python",
   "pygments_lexer": "ipython3",
   "version": "3.11.9"
  }
 },
 "nbformat": 4,
 "nbformat_minor": 5
}
