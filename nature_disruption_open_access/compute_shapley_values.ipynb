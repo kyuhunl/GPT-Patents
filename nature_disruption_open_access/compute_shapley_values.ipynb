{
 "cells": [
  {
   "cell_type": "markdown",
   "metadata": {},
   "source": [
    "# Compute Shapley-Owen values\n",
    "\n",
    "Compute Shapley-Owen values to decompose R2 among sets of regressors for patentsview and wos_2017."
   ]
  },
  {
   "cell_type": "markdown",
   "metadata": {},
   "source": [
    "# Preliminaries"
   ]
  },
  {
   "cell_type": "code",
   "execution_count": 1,
   "metadata": {},
   "outputs": [],
   "source": [
    "# load some packages\n",
    "import pandas as pd\n",
    "import numpy as np\n",
    "import matplotlib.pyplot as plt\n",
    "import config"
   ]
  },
  {
   "cell_type": "code",
   "execution_count": 2,
   "metadata": {},
   "outputs": [],
   "source": [
    "# load the patent results (r2 values)\n",
    "patents_df = pd.read_csv(config.DATA_PATH + \"analytical/patents_shapley_data_raw.csv\", \n",
    "                         low_memory=False)"
   ]
  },
  {
   "cell_type": "code",
   "execution_count": 3,
   "metadata": {},
   "outputs": [],
   "source": [
    "# load the paper results (r2 values)\n",
    "papers_df = pd.read_csv(config.DATA_PATH + \"analytical/papers_shapley_data_raw.csv\", \n",
    "                        low_memory=False)"
   ]
  },
  {
   "cell_type": "markdown",
   "metadata": {},
   "source": [
    "# Shapley function"
   ]
  },
  {
   "cell_type": "code",
   "execution_count": 4,
   "metadata": {},
   "outputs": [],
   "source": [
    "def get_shapley(predictors, r2_dict):\n",
    "  \"\"\"Compute shapley value.\"\"\"\n",
    "  results_dict = {}\n",
    "  for predictor in predictors:\n",
    "    predictor_contributions = {}  \n",
    "    for predictor_subset, predictor_subset_rsq in r2_dict.items():\n",
    "      predictor_subset_without_predictor = tuple([p for p in predictor_subset if p != predictor])\n",
    "      if len(predictor_subset) > len(predictor_subset_without_predictor):\n",
    "        predictor_subset_without_predictor_rsq = r2_dict[predictor_subset_without_predictor]\n",
    "        predictor_contribution = predictor_subset_rsq - predictor_subset_without_predictor_rsq\n",
    "        try:\n",
    "          predictor_contributions[len(predictor_subset)].append(predictor_contribution)\n",
    "        except KeyError:\n",
    "          predictor_contributions[len(predictor_subset)] = [predictor_contribution]\n",
    "    predictor_contributions = np.mean(list({k:np.mean(v) for k,v in predictor_contributions.items()}.values()))\n",
    "    results_dict[predictor] = predictor_contributions\n",
    "  return results_dict"
   ]
  },
  {
   "cell_type": "markdown",
   "metadata": {},
   "source": [
    "# Patents"
   ]
  },
  {
   "cell_type": "markdown",
   "metadata": {},
   "source": [
    "Start by cleaning up the data frame to allow for easier processing."
   ]
  },
  {
   "cell_type": "code",
   "execution_count": 5,
   "metadata": {},
   "outputs": [],
   "source": [
    "# remove empty rows\n",
    "patents_df = patents_df.dropna()"
   ]
  },
  {
   "cell_type": "code",
   "execution_count": 6,
   "metadata": {},
   "outputs": [
    {
     "data": {
      "text/html": [
       "<div>\n",
       "<style scoped>\n",
       "    .dataframe tbody tr th:only-of-type {\n",
       "        vertical-align: middle;\n",
       "    }\n",
       "\n",
       "    .dataframe tbody tr th {\n",
       "        vertical-align: top;\n",
       "    }\n",
       "\n",
       "    .dataframe thead th {\n",
       "        text-align: right;\n",
       "    }\n",
       "</style>\n",
       "<table border=\"1\" class=\"dataframe\">\n",
       "  <thead>\n",
       "    <tr style=\"text-align: right;\">\n",
       "      <th></th>\n",
       "      <th>predictors</th>\n",
       "      <th>rsq</th>\n",
       "    </tr>\n",
       "  </thead>\n",
       "  <tbody>\n",
       "    <tr>\n",
       "      <th>0</th>\n",
       "      <td>(nsubfield_id,)</td>\n",
       "      <td>0.014086</td>\n",
       "    </tr>\n",
       "    <tr>\n",
       "      <th>1</th>\n",
       "      <td>(npubyear,)</td>\n",
       "      <td>0.237620</td>\n",
       "    </tr>\n",
       "    <tr>\n",
       "      <th>2</th>\n",
       "      <td>(nauthor_id,)</td>\n",
       "      <td>0.243368</td>\n",
       "    </tr>\n",
       "    <tr>\n",
       "      <th>3</th>\n",
       "      <td>(nsubfield_id, npubyear)</td>\n",
       "      <td>0.243979</td>\n",
       "    </tr>\n",
       "    <tr>\n",
       "      <th>4</th>\n",
       "      <td>(nsubfield_id, nauthor_id)</td>\n",
       "      <td>0.244620</td>\n",
       "    </tr>\n",
       "    <tr>\n",
       "      <th>5</th>\n",
       "      <td>(nauthor_id, npubyear)</td>\n",
       "      <td>0.337844</td>\n",
       "    </tr>\n",
       "    <tr>\n",
       "      <th>6</th>\n",
       "      <td>(nsubfield_id, nauthor_id, npubyear)</td>\n",
       "      <td>0.338564</td>\n",
       "    </tr>\n",
       "  </tbody>\n",
       "</table>\n",
       "</div>"
      ],
      "text/plain": [
       "                             predictors       rsq\n",
       "0                       (nsubfield_id,)  0.014086\n",
       "1                           (npubyear,)  0.237620\n",
       "2                         (nauthor_id,)  0.243368\n",
       "3              (nsubfield_id, npubyear)  0.243979\n",
       "4            (nsubfield_id, nauthor_id)  0.244620\n",
       "5                (nauthor_id, npubyear)  0.337844\n",
       "6  (nsubfield_id, nauthor_id, npubyear)  0.338564"
      ]
     },
     "execution_count": 6,
     "metadata": {},
     "output_type": "execute_result"
    }
   ],
   "source": [
    "# convert predictors column to tuples\n",
    "patents_df = patents_df.assign(predictors=patents_df.predictors.str.split().apply(tuple))\n",
    "patents_df"
   ]
  },
  {
   "cell_type": "code",
   "execution_count": 7,
   "metadata": {},
   "outputs": [],
   "source": [
    "# add empty tuple\n",
    "patents_df = pd.concat([patents_df,\n",
    "                       pd.DataFrame([{\"predictors\": (), \"rsq\": 0.000000}])],)"
   ]
  },
  {
   "cell_type": "code",
   "execution_count": 8,
   "metadata": {},
   "outputs": [],
   "source": [
    "# get predictors\n",
    "predictors_patents = list(patents_df.predictors)\n",
    "predictors_patents = list(set([i for s in predictors_patents for i in s]))"
   ]
  },
  {
   "cell_type": "code",
   "execution_count": 9,
   "metadata": {},
   "outputs": [],
   "source": [
    "# get a dict representation of patents_df\n",
    "patents_df_dict = {subset.predictors:subset.rsq for subset in patents_df.itertuples()}"
   ]
  },
  {
   "cell_type": "code",
   "execution_count": 10,
   "metadata": {},
   "outputs": [],
   "source": [
    "# sanity check\n",
    "assert len(patents_df_dict) == len(patents_df)"
   ]
  },
  {
   "cell_type": "code",
   "execution_count": 11,
   "metadata": {},
   "outputs": [],
   "source": [
    "# get shapley value for patents\n",
    "results_patents = get_shapley(predictors_patents, \n",
    "                              patents_df_dict)"
   ]
  },
  {
   "cell_type": "markdown",
   "metadata": {},
   "source": [
    "# Papers"
   ]
  },
  {
   "cell_type": "markdown",
   "metadata": {},
   "source": [
    "Start by cleaning up the data frame to allow for easier processing."
   ]
  },
  {
   "cell_type": "code",
   "execution_count": 12,
   "metadata": {},
   "outputs": [],
   "source": [
    "# remove empty rows\n",
    "papers_df = papers_df.dropna()"
   ]
  },
  {
   "cell_type": "code",
   "execution_count": 13,
   "metadata": {},
   "outputs": [],
   "source": [
    "# convert predictors column to tuples\n",
    "papers_df = papers_df.assign(predictors=papers_df.predictors.str.split().apply(tuple))"
   ]
  },
  {
   "cell_type": "code",
   "execution_count": 14,
   "metadata": {},
   "outputs": [],
   "source": [
    "# add empty tuple\n",
    "papers_df = pd.concat([papers_df,\n",
    "                      pd.DataFrame([{\"predictors\": (), \"rsq\": 0.000000}])])"
   ]
  },
  {
   "cell_type": "code",
   "execution_count": 15,
   "metadata": {},
   "outputs": [],
   "source": [
    "# get predictors\n",
    "predictors_papers = list(papers_df.predictors)\n",
    "predictors_papers = list(set([i for s in predictors_papers for i in s]))"
   ]
  },
  {
   "cell_type": "code",
   "execution_count": 16,
   "metadata": {},
   "outputs": [],
   "source": [
    "# get a dict representation of papers_df\n",
    "papers_df_dict = {subset.predictors:subset.rsq for subset in papers_df.itertuples()}"
   ]
  },
  {
   "cell_type": "code",
   "execution_count": 17,
   "metadata": {},
   "outputs": [],
   "source": [
    "# sanity check\n",
    "assert len(papers_df_dict) == len(papers_df)"
   ]
  },
  {
   "cell_type": "code",
   "execution_count": 18,
   "metadata": {},
   "outputs": [],
   "source": [
    "# get shapley value for papers\n",
    "results_papers = get_shapley(predictors_papers, \n",
    "                             papers_df_dict)"
   ]
  },
  {
   "cell_type": "markdown",
   "metadata": {},
   "source": [
    "# Plot results"
   ]
  },
  {
   "cell_type": "code",
   "execution_count": 19,
   "metadata": {},
   "outputs": [],
   "source": [
    "# format results\n",
    "results_df = []\n",
    "results_df.extend([(\"Papers\", predictor, shapley) for predictor, shapley in results_papers.items()])\n",
    "results_df.extend([(\"Patents\", predictor, shapley) for predictor, shapley in results_patents.items()])"
   ]
  },
  {
   "cell_type": "code",
   "execution_count": 20,
   "metadata": {},
   "outputs": [],
   "source": [
    "# rename variables\n",
    "PREDICTORS_DICT = {\"nsubfield_id\": \"Field\", \n",
    "                   \"npubyear\": \"Year\", \n",
    "                   \"nauthor_id\": \"Author\"}\n",
    "results_df = [(r[0], PREDICTORS_DICT[r[1]], r[2]) for r in results_df]"
   ]
  },
  {
   "cell_type": "code",
   "execution_count": 21,
   "metadata": {},
   "outputs": [],
   "source": [
    "# convert to data frame\n",
    "results_df = pd.DataFrame(results_df, \n",
    "                          columns=[\"type\", \"predictor\", \"shapley\"])"
   ]
  },
  {
   "cell_type": "code",
   "execution_count": 22,
   "metadata": {},
   "outputs": [
    {
     "data": {
      "text/html": [
       "<div>\n",
       "<style scoped>\n",
       "    .dataframe tbody tr th:only-of-type {\n",
       "        vertical-align: middle;\n",
       "    }\n",
       "\n",
       "    .dataframe tbody tr th {\n",
       "        vertical-align: top;\n",
       "    }\n",
       "\n",
       "    .dataframe thead th {\n",
       "        text-align: right;\n",
       "    }\n",
       "</style>\n",
       "<table border=\"1\" class=\"dataframe\">\n",
       "  <thead>\n",
       "    <tr style=\"text-align: right;\">\n",
       "      <th>predictor</th>\n",
       "      <th>Author</th>\n",
       "      <th>Field</th>\n",
       "      <th>Year</th>\n",
       "    </tr>\n",
       "    <tr>\n",
       "      <th>type</th>\n",
       "      <th></th>\n",
       "      <th></th>\n",
       "      <th></th>\n",
       "    </tr>\n",
       "  </thead>\n",
       "  <tbody>\n",
       "    <tr>\n",
       "      <th>Patents</th>\n",
       "      <td>0.167777</td>\n",
       "      <td>0.006204</td>\n",
       "      <td>0.164583</td>\n",
       "    </tr>\n",
       "    <tr>\n",
       "      <th>Papers</th>\n",
       "      <td>0.200482</td>\n",
       "      <td>0.018218</td>\n",
       "      <td>0.015041</td>\n",
       "    </tr>\n",
       "  </tbody>\n",
       "</table>\n",
       "</div>"
      ],
      "text/plain": [
       "predictor    Author     Field      Year\n",
       "type                                   \n",
       "Patents    0.167777  0.006204  0.164583\n",
       "Papers     0.200482  0.018218  0.015041"
      ]
     },
     "execution_count": 22,
     "metadata": {},
     "output_type": "execute_result"
    }
   ],
   "source": [
    "# reshape\n",
    "results_df.pivot(index=\"type\", \n",
    "                    columns=\"predictor\", \n",
    "                    values=\"shapley\").sort_values(\"type\", \n",
    "                                                  ascending=False)"
   ]
  },
  {
   "cell_type": "code",
   "execution_count": 23,
   "metadata": {},
   "outputs": [],
   "source": [
    "# save\n",
    "results_df.to_csv(config.DATA_PATH + \"analytical/shapley_decomposion_results.csv.gz\",\n",
    "                  index=False,\n",
    "                  compression=\"gzip\")"
   ]
  }
 ],
 "metadata": {
  "kernelspec": {
   "display_name": "Python 3 (ipykernel)",
   "language": "python",
   "name": "python3"
  },
  "language_info": {
   "codemirror_mode": {
    "name": "ipython",
    "version": 3
   },
   "file_extension": ".py",
   "mimetype": "text/x-python",
   "name": "python",
   "nbconvert_exporter": "python",
   "pygments_lexer": "ipython3",
   "version": "3.10.6"
  }
 },
 "nbformat": 4,
 "nbformat_minor": 4
}
